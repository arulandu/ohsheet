{
 "cells": [
  {
   "cell_type": "code",
   "execution_count": 151,
   "id": "7796d51e",
   "metadata": {},
   "outputs": [
    {
     "data": {
      "text/plain": [
       "True"
      ]
     },
     "execution_count": 151,
     "metadata": {},
     "output_type": "execute_result"
    }
   ],
   "source": [
    "import xlwings as xw\n",
    "import numpy as np\n",
    "import pandas as pd\n",
    "from matplotlib import pyplot as plt\n",
    "import difflib\n",
    "import platform\n",
    "import openai\n",
    "from dotenv import load_dotenv\n",
    "\n",
    "load_dotenv()"
   ]
  },
  {
   "cell_type": "code",
   "execution_count": null,
   "id": "adff55cb",
   "metadata": {},
   "outputs": [],
   "source": [
    "file_path = './data/data.xlsb'\n",
    "wb = xw.Book(file_path)\n",
    "rng = wb.sheets[3].used_range"
   ]
  },
  {
   "cell_type": "code",
   "execution_count": 3,
   "id": "f0e92a13",
   "metadata": {},
   "outputs": [
    {
     "name": "stdout",
     "output_type": "stream",
     "text": [
      "Darwin\n"
     ]
    }
   ],
   "source": [
    "def parse_cells_win(rng):\n",
    "    pass\n",
    "\n",
    "def parse_cells_mac(rng):\n",
    "    pass\n",
    "\n",
    "def parse_cells(rng):\n",
    "    print(platform.system())\n",
    "    if platform.system() == 'Windows':\n",
    "        return parse_cells_win(rng)\n",
    "    elif platform.system() == 'Darwin':\n",
    "        return parse_cells_mac(rng)\n",
    "    else:\n",
    "        raise Exception('Unsupported platform')\n",
    "\n",
    "parse_cells(rng)"
   ]
  },
  {
   "cell_type": "code",
   "execution_count": 227,
   "id": "223474c9",
   "metadata": {},
   "outputs": [],
   "source": [
    "def parse_cell(cell):\n",
    "    return {\n",
    "        'address': cell.address,\n",
    "        'value': cell.value,\n",
    "        'formula': cell.formula,\n",
    "        'format': cell.number_format,\n",
    "        'color': cell.color,\n",
    "        'font': {\n",
    "            'name': cell.font.name,\n",
    "            'emphasis': cell.font.bold,\n",
    "            'size': cell.font.size\n",
    "        }\n",
    "    }\n",
    "\n",
    "cells = [[parse_cell(cell) for cell in row] for row in rng.rows]"
   ]
  },
  {
   "cell_type": "code",
   "execution_count": 5,
   "id": "afcfcf36",
   "metadata": {},
   "outputs": [],
   "source": [
    "def merge_mask(cells, key=lambda x: x['value'], cmp=lambda x, y: x == y):\n",
    "    \"\"\"Group via RD DFS on cmp(key1, key2) = true\"\"\"\n",
    "    st = []\n",
    "    mask = [[-1 for c in r] for r in cells]\n",
    "\n",
    "    def push(rt, nb):\n",
    "        if cmp(key(cells[rt[0]][rt[1]]), key(cells[nb[0]][nb[1]])):\n",
    "            if mask[nb[0]][nb[1]] == -1: # not visited\n",
    "                st.append(nb)\n",
    "\n",
    "    def dfs(rt, cat):\n",
    "        if mask[rt[0]][rt[1]] >= 0: return # alr. visited\n",
    "\n",
    "        st.append(rt)\n",
    "\n",
    "        while len(st) > 0:\n",
    "            s = st.pop()\n",
    "            r, c = s\n",
    "            mask[r][c] = cat\n",
    "\n",
    "            if r < len(cells)-1:\n",
    "                push(s, (r+1, c))\n",
    "            \n",
    "            if c < len(cells[0])-1:\n",
    "                push(s, (r, c+1))\n",
    "\n",
    "    cat = 1\n",
    "    for r, row in enumerate(cells):\n",
    "        for c, cell in enumerate(row):\n",
    "            if mask[r][c] >= 0: continue\n",
    "\n",
    "            if key(cell) is not None:\n",
    "                dfs((r, c), cat)\n",
    "                cat += 1\n",
    "            else:\n",
    "                mask[r][c] = 0 # empty\n",
    "\n",
    "    return np.array(mask)"
   ]
  },
  {
   "cell_type": "code",
   "execution_count": 110,
   "id": "cc8292ae",
   "metadata": {},
   "outputs": [],
   "source": [
    "def region_to_ranges(region: np.array):\n",
    "    def get_runs(r):\n",
    "        runs = []\n",
    "        for j in range(region.shape[1]):\n",
    "            if region[r][j] > 0:\n",
    "                if len(runs) > 0 and runs[-1][1] == j-1:\n",
    "                    runs[-1][1] = j\n",
    "                else:\n",
    "                    runs.append([j, j])\n",
    "        \n",
    "        return runs\n",
    "    \n",
    "    def extend_run(r, run):\n",
    "        er = r\n",
    "        for j in range(r+1, region.shape[0]):\n",
    "            if np.all(region[j][run[0]:run[1]+1] > 0):\n",
    "                region[j][run[0]:run[1]+1] = 0\n",
    "                er = j\n",
    "            else: break\n",
    "        \n",
    "        return ((r, run[0]), (er, run[1]))\n",
    "\n",
    "    rngs = []\n",
    "    for r in range(region.shape[0]):\n",
    "        runs = get_runs(r)\n",
    "        for run in runs:\n",
    "            rng = extend_run(r, run)\n",
    "            rngs.append(rng)\n",
    "\n",
    "    return rngs\n",
    "\n",
    "def mask_to_ranges(cells, mask, key):\n",
    "    n = np.max(mask)\n",
    "    regions = []\n",
    "    for t in range(1, n+1):\n",
    "        ind = np.unravel_index(np.argmax(mask == t), mask.shape)\n",
    "        val = key(cells[ind[0]][ind[1]])\n",
    "        rs = region_to_ranges(mask == t)\n",
    "\n",
    "        sm = np.sum(mask == t)\n",
    "        check = 0\n",
    "        for r in rs:\n",
    "            a = (r[1][0] - r[0][0] + 1) * (r[1][1] - r[0][1] + 1)\n",
    "            check += a\n",
    "        # print(t, sm, check, rs)\n",
    "        assert(sm == check)\n",
    "        \n",
    "        region = {\n",
    "            'val': val,\n",
    "            'ranges': rs\n",
    "        }\n",
    "\n",
    "        regions.append(region)\n",
    "\n",
    "    return regions\n",
    "\n",
    "        "
   ]
  },
  {
   "cell_type": "code",
   "execution_count": 231,
   "id": "a4ab907f",
   "metadata": {},
   "outputs": [],
   "source": [
    "def excel_col_to_num(col):\n",
    "    if not col.isalpha(): return False\n",
    "\n",
    "    return sum((ord(c) - ord('A') + 1) * (26 ** (len(col) - i - 1)) for i, c in enumerate(col))\n",
    "\n",
    "def num_to_excel_col(num):\n",
    "    col = ''\n",
    "    while num > 0:\n",
    "        num, rem = divmod(num, 26)\n",
    "        if rem == 0:\n",
    "            col = 'Z' + col\n",
    "            num -= 1\n",
    "        else:\n",
    "            col = chr(ord('A') + rem - 1) + col\n",
    "    return col\n",
    "\n",
    "def coord_to_address(r, c):\n",
    "    return f'${num_to_excel_col(c+1)}${r+1}'\n",
    "\n",
    "def address_to_coord(addr):\n",
    "    cola = ''.join(c for c in addr if c.isalpha())\n",
    "    row = ''.join(c for c in addr if c.isdigit())\n",
    "    col = excel_col_to_num(cola)\n",
    "    row = int(row)\n",
    "    return row-1, col-1\n"
   ]
  },
  {
   "cell_type": "code",
   "execution_count": 232,
   "id": "95267aee",
   "metadata": {},
   "outputs": [],
   "source": [
    "def get_regions(cells, key=lambda x: x['value'], cmp=lambda x, y: x == y):\n",
    "    mask = merge_mask(cells, key=key, cmp=cmp)\n",
    "    regions = mask_to_ranges(cells, mask, key)\n",
    "    \n",
    "    row, col = address_to_coord(cells[0][0]['address'])\n",
    "    \n",
    "    for i, region in enumerate(regions):\n",
    "        ranges = [':'.join([coord_to_address(x[0] + row, x[1] + col) for x in r]) for r in regions[i]['ranges']]\n",
    "        regions[i] = {\n",
    "            'val': region['val'],\n",
    "            'ranges': ranges\n",
    "        }\n",
    "        \n",
    "    return regions"
   ]
  },
  {
   "cell_type": "code",
   "execution_count": 233,
   "id": "749e98a6",
   "metadata": {},
   "outputs": [],
   "source": [
    "def value_key(x):\n",
    "    return None if x['value'] is None else 1\n",
    "\n",
    "def formula_cmp(x, y):\n",
    "    if x == y: return True\n",
    "    if x is None or y is None: return False\n",
    "    \n",
    "    diff = [(i, s) for i, s in enumerate(difflib.ndiff(x, y)) if s[0] in ['-', '+']]\n",
    "    gdiff = []\n",
    "    for d in diff:\n",
    "        join = True\n",
    "        if len(gdiff) == 0:\n",
    "            join = False\n",
    "        else:\n",
    "            if gdiff[-1]['type'] != d[1][0] or abs(gdiff[-1]['ind'] - d[0]) > 1:\n",
    "                join = False\n",
    "\n",
    "        if join: \n",
    "            gdiff[-1]['value'] += d[1][-1]\n",
    "        else:\n",
    "            gdiff.append({'type': d[1][0], 'ind': d[0], 'value': d[1][-1]})\n",
    "\n",
    "    similar = 0\n",
    "    for i, d in enumerate(gdiff):\n",
    "        if d['type'] == '-' and i < len(gdiff)-1 and gdiff[i+1]['type'] == '+':\n",
    "            a, b = d['value'], gdiff[i+1]['value']\n",
    "            if a.isdigit() and b.isdigit(): # consec row ref\n",
    "                a, b = int(a), int(b)\n",
    "                if abs(a - b) == 1:\n",
    "                    similar += 1\n",
    "            elif a.isalpha() and b.isalpha(): # consec col ref\n",
    "                if abs(excel_col_to_num(a) - excel_col_to_num(b)) == 1:\n",
    "                    similar += 1\n",
    "    \n",
    "    if similar > (len(gdiff)//2) * 0.9: return True # 0.9 for fuzziness\n",
    "\n",
    "    return False\n",
    "\n",
    "def formula_key(x):\n",
    "    s = x['formula'].strip()\n",
    "    return s if len(s) > 0 else None\n",
    "\n",
    "def format_key(x):\n",
    "    s = x['format']\n",
    "    return None if s == 'General' else s\n",
    "\n",
    "def color_key(x):\n",
    "    col = x['color']\n",
    "    if col is None: return None\n",
    "    r, g, b = col\n",
    "    return f'#{r:02x}{g:02x}{b:02x}'\n",
    "\n",
    "def font_key(x):\n",
    "    f = x['font']\n",
    "    return f'{f[\"name\"]}-{f[\"size\"]}-{f[\"emphasis\"]}'"
   ]
  },
  {
   "cell_type": "code",
   "execution_count": 234,
   "id": "f0dd8b24",
   "metadata": {},
   "outputs": [],
   "source": [
    "value_rgs = get_regions(cells, key=value_key)\n",
    "color_rgs = get_regions(cells, key=color_key)\n",
    "font_rgs = get_regions(cells, key=font_key)\n",
    "format_rgs = get_regions(cells, key=format_key)\n",
    "formula_rgs = get_regions(cells, key=formula_key, cmp=formula_cmp)"
   ]
  },
  {
   "cell_type": "code",
   "execution_count": 235,
   "id": "7ac78eea",
   "metadata": {},
   "outputs": [
    {
     "data": {
      "image/png": "[encoded data removed]",
      "text/plain": [
       "<Figure size 2400x1000 with 5 Axes>"
      ]
     },
     "metadata": {},
     "output_type": "display_data"
    }
   ],
   "source": [
    "def plot_rgs(rngs: dict, shape, title, ax):\n",
    "    mask = np.zeros(shape)\n",
    "    \n",
    "    # Assign random color to each range\n",
    "    for i, region in enumerate(rngs):\n",
    "        for rng in region['ranges']:\n",
    "            st, end = rng.split(':')\n",
    "            (r1, c1), (r2, c2) = address_to_coord(st), address_to_coord(end)\n",
    "            mask[r1:r2+1, c1:c2+1] = i+1\n",
    "\n",
    "    # Convert mask to colored image\n",
    "    num_categories = int(mask.max())\n",
    "    colors = np.zeros((num_categories + 1, 3))\n",
    "    colors[1:] = np.random.random((num_categories, 3))*0.5+0.5  # Random RGB values for categories 1+\n",
    "    \n",
    "    colored_mask = colors[mask.astype(int)]\n",
    "    \n",
    "    ax.imshow(colored_mask)\n",
    "    ax.set_title(title)\n",
    "    \n",
    "fig, (ax1, ax2, ax3, ax4, ax5) = plt.subplots(1, 5, figsize=(24,10))\n",
    "shape = (len(cells), len(cells[0]))\n",
    "plot_rgs(value_rgs, shape, 'Value', ax1)\n",
    "plot_rgs(color_rgs, shape, 'Color', ax2)\n",
    "plot_rgs(font_rgs, shape, 'Font', ax3)\n",
    "plot_rgs(format_rgs, shape, 'Format', ax4)\n",
    "plot_rgs(formula_rgs, shape, 'Formula', ax5)\n",
    "\n",
    "plt.show()\n"
   ]
  },
  {
   "cell_type": "code",
   "execution_count": 236,
   "id": "26fdb9c5",
   "metadata": {},
   "outputs": [
    {
     "data": {
      "text/plain": [
       "'(`1` ; [$A$1:$A$1])\\n(`1` ; [$B$2:$B$2])\\n(`1` ; [$M$2:$M$2])\\n(`1` ; [$B$5:$B$5])\\n(`1` ; [$C$6:$M$9])\\n(`1` ; [$B$7:$B$9])\\n(`1` ; [$B$11:$M$11])\\n(`1` ; [$B$13:$M$15])\\n(`1` ; [$B$17:$M$17])\\n(`1` ; [$B$19:$M$26])\\n(`1` ; [$B$28:$M$28, $B$29:$B$39, $C$30:$M$39])\\n(`1` ; [$A$30:$A$39])\\n(`1` ; [$B$41:$M$41, $B$42:$B$52, $C$43:$M$52])\\n(`1` ; [$A$43:$A$52])'"
      ]
     },
     "execution_count": 236,
     "metadata": {},
     "output_type": "execute_result"
    }
   ],
   "source": [
    "def encode_attribute(rgs):\n",
    "    def encode_region(rg):\n",
    "        return f'(`{rg[\"val\"]}` ; [{\", \".join(rg[\"ranges\"])}])'\n",
    "\n",
    "    s = '\\n'.join([encode_region(rg) for rg in rgs])\n",
    "    return s\n",
    "\n",
    "encode_attribute(value_rgs)"
   ]
  },
  {
   "cell_type": "code",
   "execution_count": 237,
   "id": "a3f98276",
   "metadata": {},
   "outputs": [],
   "source": [
    "# 1. Get e2e deliverable to work\n",
    "#     - Table detection\n",
    "#         * GPT to detect headers first\n",
    "#         * Send header data and ask for a list of tables, each table has a data range + row label range + column label range \n",
    "#         * Validate dimensions matching. Store the headers and the tables. \n",
    "\n",
    "# What does the prompt look like for getting the headers?"
   ]
  },
  {
   "cell_type": "code",
   "execution_count": 238,
   "id": "82a31404",
   "metadata": {},
   "outputs": [],
   "source": [
    "header_prompt_template = \"\"\"You are a table detection expert. You are given information describing the structure of an Excel spreadsheet. Your task is to output Excel ranges corresponding to the headers. \n",
    "\n",
    "The input contains 5 structural attributes: \"Value\", \"Color\", \"Font\", \"Format\", \"Formula\". For each *attribute*, you will be given a newline separated list of regions.\n",
    "A region represents a contiguous region of spreadsheet cells that have nearly the same attribute value.\n",
    "Each region is specified as a semicolon-separated tuple of the value of the attribute as a backtick-quoted string along with a comma-separated list of Excel ranges whose union is the region e.g. (`value` ; ['A1:B3', 'C1:D3']).\n",
    "Ranges are specified like 'A1:B3' which selections the first to second row and first to third column, inclusive. \n",
    "\n",
    "The Value attribute is 1 if the cell has a value, 0 otherwise. A formula region contain cells whose formula only differs from the region value by cell reference changes, common when applying a formula to a range of cells. \n",
    "\n",
    "Your task is to output a comma separated list, surrounded by [], of non-overlapping Excel ranges e.g. 'A1:B3' corresponding to the header regions of the data. An overestimate is preferred to an underestimate. You should select any regions that may contain information for describing the data, but you should omit regions that contain the data itself.\n",
    "DO NOT ADD OTHER WORDS OR EXPLANATION.\n",
    "\n",
    "INPUT:\n",
    "*Value*\n",
    "{}\n",
    "\n",
    "*Color*\n",
    "{}\n",
    "\n",
    "*Font*\n",
    "{}\n",
    "\n",
    "*Format*\n",
    "{}\n",
    "\n",
    "*Formula*\n",
    "{}\n",
    "\"\"\"\n",
    "\n",
    "header_prompt = header_prompt_template.format(\n",
    "    encode_attribute(value_rgs),\n",
    "    encode_attribute(color_rgs),\n",
    "    encode_attribute(font_rgs),\n",
    "    encode_attribute(format_rgs),\n",
    "    encode_attribute(formula_rgs)\n",
    ")"
   ]
  },
  {
   "cell_type": "code",
   "execution_count": null,
   "id": "40ff9bae",
   "metadata": {},
   "outputs": [],
   "source": [
    "client = openai.OpenAI()\n",
    "# model = \"o4-mini-2025-04-16\"\n",
    "model = 'gpt-4.1'\n",
    "header_response = client.responses.create(\n",
    "  model=model,\n",
    "  input=[\n",
    "      {\n",
    "          \"role\": \"user\",\n",
    "          \"content\": header_prompt\n",
    "      }\n",
    "  ]\n",
    ")"
   ]
  },
  {
   "cell_type": "code",
   "execution_count": null,
   "id": "ac6d09f4",
   "metadata": {},
   "outputs": [
    {
     "name": "stdout",
     "output_type": "stream",
     "text": [
      "Input tokens per cell 2.92032967032967\n",
      "Input chars per cell 4.802197802197802\n"
     ]
    }
   ],
   "source": [
    "print(\"Input tokens per cell\", header_response.usage.input_tokens / (shape[0]*shape[1]))\n",
    "\n",
    "query_chars = sum([\n",
    "    len(encode_attribute(x)) for x in [value_rgs, color_rgs, font_rgs, format_rgs, formula_rgs]\n",
    "])\n",
    "print(\"Input chars per cell\", query_chars / (shape[0]*shape[1]))\n"
   ]
  },
  {
   "cell_type": "code",
   "execution_count": null,
   "id": "40b40c68",
   "metadata": {},
   "outputs": [],
   "source": [
    "def parse_ranges_response(s:str):\n",
    "    s = [r.strip() for r in s.strip('[]').split(',')]\n",
    "    return s\n",
    "\n",
    "info_ranges = parse_ranges_response(header_response.output_text)\n",
    "\n",
    "def get_values_in_range(rng:str):\n",
    "    def format_value(c):\n",
    "        v = c['value']\n",
    "        if v is None:\n",
    "            return ''\n",
    "        else: return str(v)\n",
    "\n",
    "    st, end = rng.split(':')\n",
    "    (r1, c1), (r2, c2) = address_to_coord(st), address_to_coord(end)\n",
    "    data = []\n",
    "    for r in range(r1, r2+1):\n",
    "        data.extend([format_value(v) for v in cells[r][c1:c2+1]])\n",
    "    \n",
    "    return data\n",
    "\n",
    "header_data = {rng: '[' + ', '.join(get_values_in_range(rng)) + ']' for rng in info_ranges}"
   ]
  },
  {
   "cell_type": "code",
   "execution_count": 246,
   "id": "fe371402",
   "metadata": {},
   "outputs": [
    {
     "data": {
      "image/png": "[encoded data removed]",
      "text/plain": [
       "<Figure size 400x400 with 1 Axes>"
      ]
     },
     "metadata": {},
     "output_type": "display_data"
    }
   ],
   "source": [
    "def plot_ranges(rngs: dict, shape, title, ax):\n",
    "    mask = np.zeros(shape)\n",
    "    \n",
    "    for i, rng in enumerate(rngs):\n",
    "        st, end = rng.split(':')\n",
    "        (r1, c1), (r2, c2) = address_to_coord(st), address_to_coord(end)\n",
    "        mask[r1:r2+1, c1:c2+1] = i+1\n",
    "\n",
    "    # Convert mask to colored image\n",
    "    num_categories = len(rngs)\n",
    "    colors = np.zeros((num_categories + 1, 3))\n",
    "    colors[1:] = np.random.random((num_categories, 3))*0.5+0.5  # Random RGB values for categories 1+\n",
    "    \n",
    "    colored_mask = colors[mask.astype(int)]\n",
    "    \n",
    "    ax.imshow(colored_mask)\n",
    "    ax.set_title(title)\n",
    "    \n",
    "fig, (ax1) = plt.subplots(1, 1, figsize=(4, 4))\n",
    "plot_ranges(info_ranges, shape, 'Requested Header/Info Ranges', ax1)\n",
    "plt.show()"
   ]
  },
  {
   "cell_type": "code",
   "execution_count": null,
   "id": "2c0ee5c2",
   "metadata": {},
   "outputs": [
    {
     "data": {
      "text/plain": [
       "'\\nYou are now given the data corresponding to the header/informative regions that you outputted in your previous response.\\nThe ranges are newline separated. For each range, you are given the range, a space, and a comma separated list of backtick-quoted cell values in row-major order where e.g. A1:A3 [`value1`, , `value2`] implies that the second cell is empty. \\n\\nUsing this information and the previous attribute region information, your task is to detect every table present in the spreadsheet.\\nYou should output a semicolon-separated list of tables. For each table, you should give a comma-separated, parenthesized tuple of three ranges: the data range, the row header range, and the column header range. If either of these headers are blank, you should leave it blank in the tuple: e.g. (A2:D7, A2:D2, ) specifies a blank column header. \\n\\nDO NOT ADD OTHER WORDS OR EXPLANATION.\\n\\nINPUT:\\nA1:A1 [   ]\\nB2:M3 [IRR MATRIX, , , , , , , , , , , BIG RED BUILDING, , , , , , , , , , , , ]\\nB5:M5 [ANNUAL, , , , , , , , , , , ]\\nB28:M28 [Unlevered, 0.0, 1.0, 2.0, 3.0, 4.0, 5.0, 6.0, 7.0, 8.0, 9.0, 10.0]\\nB41:M41 [Levered, 0.0, 1.0, 2.0, 3.0, 4.0, 5.0, 6.0, 7.0, 8.0, 9.0, 10.0]\\n'"
      ]
     },
     "execution_count": 254,
     "metadata": {},
     "output_type": "execute_result"
    }
   ],
   "source": [
    "table_detection_template = \"\"\"\n",
    "You are now given the data corresponding to the header/informative regions that you outputted in your previous response.\n",
    "The ranges are newline separated. For each range, you are given the range, a space, and a comma separated list of backtick-quoted cell values in row-major order where e.g. A1:A3 [`value1`, , `value2`] implies that the second cell is empty. \n",
    "\n",
    "Using this information and the previous attribute region information, your task is to detect every table present in the spreadsheet.\n",
    "You should output a semicolon-separated list of tables. For each table, you should give a comma-separated, parenthesized tuple of three ranges: the data range, the row header range, and the column header range. If either of these headers are blank, you should leave it blank in the tuple: e.g. (A2:D7, A2:D2, ) specifies a blank column header. \n",
    "\n",
    "DO NOT ADD OTHER WORDS OR EXPLANATION.\n",
    "\n",
    "INPUT:\n",
    "{}\n",
    "\"\"\"\n",
    "\n",
    "header_data_input = '\\n'.join([f'{h[0].replace('$', '')} {h[1]}' for h in header_data.items()])\n",
    "table_detection_prompt = table_detection_template.format(header_data_input)"
   ]
  },
  {
   "cell_type": "code",
   "execution_count": null,
   "id": "b1f2f3bd",
   "metadata": {},
   "outputs": [],
   "source": [
    "response = client.responses.create(\n",
    "  model=model,\n",
    "  previous_response_id=header_response.id,\n",
    "  input=[\n",
    "      {\n",
    "          \"role\": \"user\",\n",
    "          \"content\": table_detection_prompt\n",
    "      }\n",
    "  ]\n",
    ")"
   ]
  },
  {
   "cell_type": "code",
   "execution_count": 259,
   "id": "b1a76b74",
   "metadata": {},
   "outputs": [
    {
     "data": {
      "text/plain": [
       "[{'data': 'C6:M9', 'row_hdr': 'B5:B9', 'col_hdr': 'C5:M5'},\n",
       " {'data': 'C30:M39', 'row_hdr': 'B28:B39', 'col_hdr': 'C28:M28'},\n",
       " {'data': 'C43:M52', 'row_hdr': 'B41:B52', 'col_hdr': 'C41:M41'}]"
      ]
     },
     "execution_count": 259,
     "metadata": {},
     "output_type": "execute_result"
    }
   ],
   "source": [
    "def parse_table_detection_response(s:str):\n",
    "    s = [r.strip('() ').split(',') for r in s.strip().split(';')]\n",
    "    s = [{'data': r[0], 'row_hdr': r[1].strip(), 'col_hdr': r[2].strip()} for r in s]\n",
    "    return s\n",
    "\n",
    "tables = parse_table_detection_response(response.output_text)\n",
    "tables"
   ]
  },
  {
   "cell_type": "code",
   "execution_count": 275,
   "id": "e1f04e05",
   "metadata": {},
   "outputs": [
    {
     "data": {
      "image/png": "[encoded data removed]",
      "text/plain": [
       "<Figure size 400x400 with 1 Axes>"
      ]
     },
     "metadata": {},
     "output_type": "display_data"
    }
   ],
   "source": [
    "def plot_tables(tables:list, shape, title, ax):\n",
    "    colored_mask = np.zeros((*shape, 3))\n",
    "\n",
    "    def color_range(rng:str, col):\n",
    "        st, end = rng.split(':')\n",
    "        (r1, c1), (r2, c2) = address_to_coord(st), address_to_coord(end)\n",
    "        colored_mask[r1:r2+1, c1:c2+1, :] = col\n",
    "\n",
    "    for i, table in enumerate(tables):\n",
    "        col = np.random.random(3)*0.5+0.5\n",
    "        color_range(table['data'], col*0.5)\n",
    "        color_range(table['row_hdr'], col*0.9)\n",
    "        color_range(table['col_hdr'], col*1.1)\n",
    "    \n",
    "    colored_mask = np.clip(colored_mask, 0, 1)\n",
    "    ax.imshow(colored_mask)\n",
    "    ax.set_title(title)\n",
    "    \n",
    "fig, (ax1) = plt.subplots(1, 1, figsize=(4, 4))\n",
    "plot_tables(tables, shape, 'Tables', ax1)\n",
    "plt.show()"
   ]
  },
  {
   "cell_type": "code",
   "execution_count": null,
   "id": "a78984d6",
   "metadata": {},
   "outputs": [],
   "source": []
  }
 ],
 "metadata": {
  "kernelspec": {
   "display_name": "dev",
   "language": "python",
   "name": "python3"
  },
  "language_info": {
   "codemirror_mode": {
    "name": "ipython",
    "version": 3
   },
   "file_extension": ".py",
   "mimetype": "text/x-python",
   "name": "python",
   "nbconvert_exporter": "python",
   "pygments_lexer": "ipython3",
   "version": "3.12.3"
  }
 },
 "nbformat": 4,
 "nbformat_minor": 5
}
